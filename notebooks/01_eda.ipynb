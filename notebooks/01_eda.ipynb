{
 "cells": [
  {
   "cell_type": "markdown",
   "id": "3a5351c7",
   "metadata": {},
   "source": [
    "# Análise Exploratória – House Prices\n",
    "\n",
    "Este notebook faz EDA no dataset “House Prices – Advanced Regression Techniques” (Kaggle), seguindo o fluxo:\n",
    "1. Importar bibliotecas  \n",
    "2. Carregar dados  \n",
    "3. Visão geral (head, info, describe)  \n",
    "4. Identificação de missing  \n",
    "5. Gráficos iniciais  "
   ]
  },
  {
   "cell_type": "code",
   "execution_count": null,
   "id": "1051ac8e",
   "metadata": {},
   "outputs": [],
   "source": [
    "import pandas as pd\n",
    "import numpy as np\n",
    "import matplotlib.pyplot as plt"
   ]
  },
  {
   "cell_type": "code",
   "execution_count": null,
   "id": "43f517c9",
   "metadata": {},
   "outputs": [],
   "source": []
  }
 ],
 "metadata": {
  "kernelspec": {
   "display_name": "Python 3",
   "language": "python",
   "name": "python3"
  },
  "language_info": {
   "name": "python",
   "version": "3.12.10"
  }
 },
 "nbformat": 4,
 "nbformat_minor": 5
}
